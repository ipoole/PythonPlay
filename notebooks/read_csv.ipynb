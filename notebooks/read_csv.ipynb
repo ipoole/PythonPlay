{
 "cells": [
  {
   "cell_type": "markdown",
   "metadata": {},
   "source": [
    "# Simple reading of a .csv file\n",
    "\n",
    "Demonstrating the reading .csv files into a list of namedtuples.   Does not need the csv module.\n",
    "Includes a self contained unit test."
   ]
  },
  {
   "cell_type": "code",
   "execution_count": 9,
   "metadata": {},
   "outputs": [],
   "source": [
    "from collections import namedtuple\n",
    "\n",
    "# The 'namedtuple' class allows on-the-fly creation of a light weight class much like a traditional\n",
    "# record.  Fields can be accessed either as class properties - e.g. person.age\n",
    "# or by index - person[2]"
   ]
  },
  {
   "cell_type": "code",
   "execution_count": 10,
   "metadata": {},
   "outputs": [],
   "source": [
    "def create_example_csv_file(fname):\n",
    "    \"\"\" Write a trivial example .csv file, to keep this script self contained\"\"\"\n",
    "    contents =\\\n",
    "        \"\"\"first_name,second_name,age,height,gender\n",
    "Fred,Bloggs,59,1.95,male\n",
    "Peter,Bloggs,15,1.86,male\n",
    "Ann,Somebody,32,1.76,female\n",
    "Ada,Lovelace,46,1.67,female\n",
    "\"\"\"\n",
    "    with open(fname, 'w') as f:\n",
    "        f.write(contents)"
   ]
  },
  {
   "cell_type": "code",
   "execution_count": 11,
   "metadata": {},
   "outputs": [
    {
     "name": "stdout",
     "output_type": "stream",
     "text": [
      "Test_read_csv passed.\n",
      "\n"
     ]
    }
   ],
   "source": [
    "def read_csv(fname):\n",
    "    \"\"\"\n",
    "    Read from the given .csv file into a list of named tuples, the class being named \"Row\".\n",
    "    The tuple fields are taken from the file's header line.  Note we avoid dependency on the\n",
    "    csv module - just standard readlines() is sufficient.\n",
    "    Note we have to strip out any '\"' marks, using replace\n",
    "    \"\"\"\n",
    "\n",
    "    # The 'with' statement ensures the file is closed\n",
    "    with open(fname, 'r') as f:\n",
    "        # Read the first line which will be the 'header' of field names\n",
    "        header = f.readline().replace('\"','')\n",
    "\n",
    "        # Use the header line to define a namedtuple class, having fields from the header\n",
    "        Row = namedtuple(\"Row\", header)\n",
    "\n",
    "        # Read all the rows into a list of Row classes\n",
    "        # Each line is first stripped of the trailing '\\n', then split into a list of\n",
    "        # comma separated words which are then passed as parameters to the Row constructor\n",
    "        # using the handy Python '*' operator.\n",
    "        rows = [Row(*(line.replace('\"','').rstrip('\\n').split(','))) for line in f.readlines()]\n",
    "\n",
    "    return rows\n",
    "\n",
    "def test_read_csv():\n",
    "    \"\"\"\n",
    "    A simple unit test for read_csv\n",
    "    \"\"\"\n",
    "    test_filename = '/tmp/trivial_test_example.csv'\n",
    "    create_example_csv_file(test_filename)\n",
    "    data = read_csv(test_filename)\n",
    "    assert len(data) == 4       # expecting 4 rows\n",
    "    assert len(data[0]) == 5    # expecting 5 field tuples\n",
    "    assert data[0].age == '59'  # check we can access fields by name\n",
    "    assert data[0][2] == '59'   # ... and by index\n",
    "\n",
    "    print(\"Test_read_csv passed.\\n\")\n",
    "    \n",
    "test_read_csv()"
   ]
  },
  {
   "cell_type": "code",
   "execution_count": 12,
   "metadata": {},
   "outputs": [
    {
     "name": "stdout",
     "output_type": "stream",
     "text": [
      "\n",
      "Demonstrating the reading .csv files into a list of namedtuples.\n",
      "Includes a self contained unit test.\n",
      "\n",
      "Test_read_csv passed.\n",
      "\n",
      "Row(first_name='Fred', second_name='Bloggs', age='59', height='1.95', gender='male')\n",
      "Row(first_name='Peter', second_name='Bloggs', age='15', height='1.86', gender='male')\n",
      "Row(first_name='Ann', second_name='Somebody', age='32', height='1.76', gender='female')\n",
      "Row(first_name='Ada', second_name='Lovelace', age='46', height='1.67', gender='female')\n",
      "\n",
      "Fred Bloggs is a 59 years old male and is 1.95m tall.\n",
      "Peter Bloggs is a 15 years old male and is 1.86m tall.\n",
      "Ann Somebody is a 32 years old female and is 1.76m tall.\n",
      "Ada Lovelace is a 46 years old female and is 1.67m tall.\n",
      "\n",
      "Mean height is 1.81m\n"
     ]
    }
   ],
   "source": [
    "# Demonstrate usage\n",
    "\n",
    "print(__doc__)\n",
    "\n",
    "# Run our unit test\n",
    "test_read_csv()\n",
    "\n",
    "# Write a trivial .csv file to work with\n",
    "filename = '/tmp/trivial_test_example.csv'\n",
    "create_example_csv_file(filename)\n",
    "\n",
    "# Read it into a list of namedtuples using our function\n",
    "table = read_csv(filename)\n",
    "\n",
    "# Show what we've got\n",
    "for row in table:\n",
    "    print(row)\n",
    "\n",
    "# Explain what we have - demonstrating use of field names\n",
    "print()\n",
    "for row in table:\n",
    "    print(\"%s %s is a %d years old %s and is %4.2fm tall.\" %\n",
    "        (row.first_name, row.second_name, int(row.age), row.gender, float(row.height)))\n",
    "\n",
    "# Demonstrate calculating some statistics on the data\n",
    "mean_height = sum([float(row.height) for row in table]) / len(table)\n",
    "print(\"\\nMean height is %4.2fm\" % mean_height)\n"
   ]
  },
  {
   "cell_type": "markdown",
   "metadata": {},
   "source": [
    "# Matplotlib"
   ]
  },
  {
   "cell_type": "code",
   "execution_count": 1,
   "metadata": {},
   "outputs": [],
   "source": [
    "import numpy as np\n",
    "import matplotlib.pyplot as plt"
   ]
  },
  {
   "cell_type": "code",
   "execution_count": 4,
   "metadata": {},
   "outputs": [
    {
     "data": {
      "image/png": "[encoded data removed]",
      "text/plain": [
       "<Figure size 432x288 with 1 Axes>"
      ]
     },
     "metadata": {
      "needs_background": "light"
     },
     "output_type": "display_data"
    }
   ],
   "source": [
    "x = np.linspace(-20, 20, 200)\n",
    "y = x * np.sin(x)\n",
    "plt.plot(x,y)\n",
    "plt.xlabel('$x$ (radians)')\n",
    "plt.ylabel('$x \\sin(x)$')\n",
    "plt.show()"
   ]
  },
  {
   "cell_type": "code",
   "execution_count": null,
   "metadata": {},
   "outputs": [],
   "source": []
  }
 ],
 "metadata": {
  "kernelspec": {
   "display_name": "Python [conda env:trivialpython]",
   "language": "python",
   "name": "conda-env-trivialpython-py"
  },
  "language_info": {
   "codemirror_mode": {
    "name": "ipython",
    "version": 3
   },
   "file_extension": ".py",
   "mimetype": "text/x-python",
   "name": "python",
   "nbconvert_exporter": "python",
   "pygments_lexer": "ipython3",
   "version": "3.7.0"
  }
 },
 "nbformat": 4,
 "nbformat_minor": 2
}
